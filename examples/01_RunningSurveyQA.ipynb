{
 "cells": [
  {
   "cell_type": "markdown",
   "metadata": {},
   "source": [
    "# Running surveyqa from a notebook"
   ]
  },
  {
   "cell_type": "code",
   "execution_count": 1,
   "metadata": {},
   "outputs": [],
   "source": [
    "import os, sys\n",
    "import numpy as np\n",
    "from astropy.table import Table"
   ]
  },
  {
   "cell_type": "markdown",
   "metadata": {},
   "source": [
    "## Update sys.path if needed\n",
    "\n",
    "`sys.path` contains the list of directories where python looks for code libraries.  It is initially loaded from the `$PYTHONPATH` environment variable plus some python default directories.  We'll need to add this repo to `sys.path` unless you had already added it to `$PYTHONPATH` (in which case we don't want to double-add it)."
   ]
  },
  {
   "cell_type": "code",
   "execution_count": 2,
   "metadata": {},
   "outputs": [
    {
     "name": "stdout",
     "output_type": "stream",
     "text": [
      "['C:\\\\Users\\\\ruhi\\\\Anaconda3\\\\envs\\\\desi\\\\python36.zip', 'C:\\\\Users\\\\ruhi\\\\Anaconda3\\\\envs\\\\desi\\\\DLLs', 'C:\\\\Users\\\\ruhi\\\\Anaconda3\\\\envs\\\\desi\\\\lib', 'C:\\\\Users\\\\ruhi\\\\Anaconda3\\\\envs\\\\desi', '', 'C:\\\\Users\\\\ruhi\\\\Anaconda3\\\\envs\\\\desi\\\\lib\\\\site-packages', 'C:\\\\Users\\\\ruhi\\\\Anaconda3\\\\envs\\\\desi\\\\lib\\\\site-packages\\\\IPython\\\\extensions', 'C:\\\\Users\\\\ruhi\\\\.ipython']\n"
     ]
    }
   ],
   "source": [
    "print(sys.path)"
   ]
  },
  {
   "cell_type": "code",
   "execution_count": 3,
   "metadata": {},
   "outputs": [
    {
     "name": "stdout",
     "output_type": "stream",
     "text": [
      "Adding C:\\Users\\ruhi\\Desktop\\desi_real\\surveyqa\\py to sys.path\n"
     ]
    }
   ],
   "source": [
    "# cwd = current working directory = examples directory where this notebook is\n",
    "codedir = os.path.normpath(os.path.join(os.getcwd(), '..', 'py'))\n",
    "if codedir not in sys.path:\n",
    "    print('Adding {} to sys.path'.format(codedir))\n",
    "    sys.path = [codedir,] + sys.path\n",
    "else:\n",
    "    print('{} already in sys.path'.format(codedir))"
   ]
  },
  {
   "cell_type": "markdown",
   "metadata": {},
   "source": [
    "Now we can import our surveyqa library:"
   ]
  },
  {
   "cell_type": "code",
   "execution_count": 4,
   "metadata": {},
   "outputs": [],
   "source": [
    "import surveyqa.core"
   ]
  },
  {
   "cell_type": "markdown",
   "metadata": {},
   "source": [
    "## Read input files"
   ]
  },
  {
   "cell_type": "code",
   "execution_count": 5,
   "metadata": {},
   "outputs": [],
   "source": [
    "exposures = Table.read('exposures.fits')\n",
    "tiles = Table.read('desi-tiles.fits')\n",
    "tiles = tiles[tiles['IN_DESI']>0]"
   ]
  },
  {
   "cell_type": "markdown",
   "metadata": {},
   "source": [
    "## Create output directory if needed"
   ]
  },
  {
   "cell_type": "code",
   "execution_count": 6,
   "metadata": {},
   "outputs": [
    {
     "name": "stdout",
     "output_type": "stream",
     "text": [
      "Output directory C:\\Users\\ruhi\\Desktop\\desi_real\\surveyqa\\examples\\survey-qa\n"
     ]
    }
   ],
   "source": [
    "outdir = os.path.join(os.getcwd(), 'survey-qa')\n",
    "os.makedirs(outdir, exist_ok=True)\n",
    "print('Output directory {}'.format(outdir))"
   ]
  },
  {
   "cell_type": "markdown",
   "metadata": {},
   "source": [
    "## Run surveyqa to make webpages with plots"
   ]
  },
  {
   "cell_type": "code",
   "execution_count": 7,
   "metadata": {},
   "outputs": [
    {
     "name": "stdout",
     "output_type": "stream",
     "text": [
      "Downloaded offline Bokeh files\n",
      "Generating QA for 7456 exposures on 2677 tiles\n",
      "Wrote summary QA to C:\\Users\\ruhi\\Desktop\\desi_real\\surveyqa\\examples\\survey-qa\\summary.html\n"
     ]
    }
   ],
   "source": [
    "surveyqa.core.makeplots(exposures, tiles, outdir)"
   ]
  },
  {
   "cell_type": "code",
   "execution_count": null,
   "metadata": {},
   "outputs": [],
   "source": [
    "#- This works on a Mac, I'm not sure about on Windows; otherwise just navigate to those files\n",
    "summaryfile = os.path.join(outdir, 'summary.html')\n",
    "!open $summaryfile\n",
    "\n",
    "nightfile = os.path.join(outdir, 'night-20200527.html')\n",
    "!open $nightfile"
   ]
  },
  {
   "cell_type": "code",
   "execution_count": null,
   "metadata": {},
   "outputs": [],
   "source": [
    "\n"
   ]
  }
 ],
 "metadata": {
  "kernelspec": {
   "display_name": "Python 3",
   "language": "python",
   "name": "python3"
  },
  "language_info": {
   "codemirror_mode": {
    "name": "ipython",
    "version": 3
   },
   "file_extension": ".py",
   "mimetype": "text/x-python",
   "name": "python",
   "nbconvert_exporter": "python",
   "pygments_lexer": "ipython3",
   "version": "3.6.8"
  }
 },
 "nbformat": 4,
 "nbformat_minor": 2
}
