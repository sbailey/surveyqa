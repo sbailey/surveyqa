{
 "cells": [
  {
   "cell_type": "markdown",
   "metadata": {},
   "source": [
    "# Getting Started: Basic Tools for the DESI Survey QA Dashboard\n",
    "\n",
    "This notebook describes some of the basic concepts and tools that we'll use to create a DESI survey QA dashboard."
   ]
  },
  {
   "cell_type": "markdown",
   "metadata": {},
   "source": [
    "# Bokeh Plotting Library\n",
    "\n",
    "Bokeh is a python plotting library focused on making interactive plots to view in a web browser.\n",
    "Compared to matplotlib/pylab, bokeh is much better at creating interactive\n",
    "plots (which we will use for the dashboard), albeit a little more complicated.\n",
    "We'll initially develop our plots in jupyter notebooks and then later port that\n",
    "to python library code that can export them to HTML pages."
   ]
  },
  {
   "cell_type": "code",
   "execution_count": null,
   "metadata": {},
   "outputs": [],
   "source": [
    "#- Basic imports\n",
    "import numpy as np\n",
    "import bokeh.plotting as bk\n",
    "bk.output_notebook()"
   ]
  },
  {
   "cell_type": "code",
   "execution_count": null,
   "metadata": {},
   "outputs": [],
   "source": [
    "x = np.random.normal(size=500)\n",
    "y = np.random.normal(size=500)\n",
    "\n",
    "fig1 = bk.figure(width=300, height=300)\n",
    "fig1.scatter(x, y)\n",
    "\n",
    "x = np.linspace(0, 4*np.pi, 30)\n",
    "y = np.sin(x)\n",
    "fig2 = bk.figure(width=500, height=300)\n",
    "fig2.line(x, y)\n",
    "fig2.circle(x, y, color='orange', size=10)\n",
    "\n",
    "bk.show(bk.Row(fig1, fig2))"
   ]
  },
  {
   "cell_type": "markdown",
   "metadata": {},
   "source": [
    "## FITS files and astropy Tables\n",
    "\n",
    "FITS (Flexible Image Transport System) is the most common data format in astronomy, in use for almost 4 decades.  FITS files contain multiple \"Header Data Units\" (HDUs), where each HDU contains an ASCII \"header\" with keyword/value pairs of metadata followed by binary data that can be either an N-dimensional array or a table with named columns and rows of data.  For this project we'll mainly use the binary tables, and the `astropy.table.Table` interface to them."
   ]
  },
  {
   "cell_type": "code",
   "execution_count": null,
   "metadata": {},
   "outputs": [],
   "source": [
    "from astropy.table import Table\n",
    "tiles = Table.read('desi-tiles.fits')\n",
    "tiles[0:5]"
   ]
  },
  {
   "cell_type": "code",
   "execution_count": null,
   "metadata": {},
   "outputs": [],
   "source": [
    "#- Trim tiles to just the ones that are observable by DESI\n",
    "keep = tiles['IN_DESI'] > 0\n",
    "print('Keeping {} of {} tiles'.format(np.count_nonzero(keep), len(tiles)))\n",
    "tiles = tiles[keep]"
   ]
  },
  {
   "cell_type": "code",
   "execution_count": null,
   "metadata": {},
   "outputs": [],
   "source": [
    "#- Read exposures\n",
    "exposures = Table.read('exposures.fits')\n",
    "\n",
    "#- Remove calibration exposures\n",
    "keep = exposures['PROGRAM'] != 'CALIB'\n",
    "exposures = exposures[keep]\n",
    "\n",
    "#- Show the first 5 exposures\n",
    "exposures[0:5]"
   ]
  },
  {
   "cell_type": "markdown",
   "metadata": {},
   "source": [
    "## Astronomical coordinates and terms\n",
    "\n",
    "Right Ascension (**RA**) is a longitude-like coordinate on the sky, while declination (**dec**) is a latitude-like coordinate.\n",
    "\n",
    "The Modified Julian Date (**MJD**) is the number of days since Nov 17, 1858, and is often used to record the start time of an observation as a floating point number.\n",
    "\n",
    "**Airmass** is the amount of air through which the telescope was looking, normalized to airmass=1 when looking straight up.  It is approximately 1/cos(theta) where theta=the angle measured from straight up (the \"zenith\").  e.g. looking at 30 degrees above the horizon = 60 degrees from the zenith means airmass = 1/cos(60) = 2, i.e. looking through twice as much atmosphere as looking straight up.  Generally we want to observe through less air.\n",
    "\n",
    "**Seeing** = amount of blur due to atmospheric turbulance and telescope optics.  It is measured in units of arcsec = 1/3600 degrees.  Seeing less than 1 arcsec is generally pretty good; seeing greater than 1 arcsec is a somewhat disappointing night.  For comparison, a human with good eyesight has effective seeing of 1 arcminute = 60 arcsec.  i.e. a good telescope can see ~60x sharper than a human."
   ]
  },
  {
   "cell_type": "markdown",
   "metadata": {},
   "source": [
    "## Example: plotting observed tiles"
   ]
  },
  {
   "cell_type": "code",
   "execution_count": null,
   "metadata": {},
   "outputs": [],
   "source": [
    "#- plot all tiles\n",
    "fig = bk.figure(width=600, height=300)\n",
    "fig.circle(tiles['RA'], tiles['DEC'], color='gray', size=1)\n",
    "\n",
    "#- np.in1d is a very handy function for determining which items in one array are present in another\n",
    "#- use that to determine which tiles have already been observed\n",
    "observed = np.in1d(tiles['TILEID'], exposures['TILEID'])\n",
    "fig.circle(tiles['RA'][observed], tiles['DEC'][observed], color='blue', size=3)\n",
    "\n",
    "bk.show(fig)"
   ]
  },
  {
   "cell_type": "markdown",
   "metadata": {},
   "source": [
    "# Exercises\n",
    "\n",
    "* Read the Bokeh [quickstart guide](https://bokeh.pydata.org/en/latest/docs/user_guide/quickstart.html#).\n",
    "* Work through the [Bokeh tutorials](https://mybinder.org/v2/gh/bokeh/bokeh-notebooks/master?filepath=tutorial%2F00%20-%20Introduction%20and%20Setup.ipynb) 1-6 and 10.  7-9 and 11 are optional.\n",
    "* Implement at least one of the following even if you haven't finished all the tutorials:\n",
    "  1. Write a function that plots the number of tiles observed vs. time.\n",
    "  2. Make a plot of the sky showing which tiles are observed like above, but additionally highlight the tiles that were observed on a specified night, e.g. on `int(MJD) = 58838`.  Color code the progression of the exposures of otherwise somehow indicate their order.\n",
    "    * Bonus: add an interactive slider to move through the nights and update the plot on the fly\n",
    "  3. Make a plot of the sky showing which tiles are observed like above, but add interactivity so that hovering over a tile shows what exposures observed that tile.\n",
    "* Think about: the above plot shows the observed tiles (blue) overlaid on top of the locations all tiles (gray).  When zoomed out, this gives the impression that we are done with a large fraction of sky, but if you zoom in you will see that there are many unobserved gray tile locations that are obscured by the blue points.  How could you represent the data to give a better sense of actual completion for each part of the sky?"
   ]
  },
  {
   "cell_type": "code",
   "execution_count": null,
   "metadata": {},
   "outputs": [],
   "source": []
  }
 ],
 "metadata": {
  "kernelspec": {
   "display_name": "Python 3",
   "language": "python",
   "name": "python3"
  },
  "language_info": {
   "codemirror_mode": {
    "name": "ipython",
    "version": 3
   },
   "file_extension": ".py",
   "mimetype": "text/x-python",
   "name": "python",
   "nbconvert_exporter": "python",
   "pygments_lexer": "ipython3",
   "version": "3.6.7"
  }
 },
 "nbformat": 4,
 "nbformat_minor": 2
}
