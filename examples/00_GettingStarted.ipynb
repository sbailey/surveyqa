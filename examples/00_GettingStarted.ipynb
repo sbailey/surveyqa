{
 "cells": [
  {
   "cell_type": "markdown",
   "metadata": {},
   "source": [
    "# Getting Started: Basic Tools for the DESI Survey QA Dashboard\n",
    "\n",
    "This notebook describes some of the basic concepts and tools that we'll use to create a DESI survey QA dashboard."
   ]
  },
  {
   "cell_type": "markdown",
   "metadata": {},
   "source": [
    "# Bokeh Plotting Library\n",
    "\n",
    "Bokeh is a python plotting library focused on making interactive plots to view in a web browser.\n",
    "Compared to matplotlib/pylab, bokeh is much better at creating interactive\n",
    "plots (which we will use for the dashboard), albeit a little more complicated.\n",
    "We'll initially develop our plots in jupyter notebooks and then later port that\n",
    "to python library code that can export them to HTML pages."
   ]
  },
  {
   "cell_type": "code",
   "execution_count": 1,
   "metadata": {},
   "outputs": [
    {
     "data": {
      "text/html": [
       "\n",
       "    <div class=\"bk-root\">\n",
       "        <a href=\"https://bokeh.pydata.org\" target=\"_blank\" class=\"bk-logo bk-logo-small bk-logo-notebook\"></a>\n",
       "        <span id=\"1001\">Loading BokehJS ...</span>\n",
       "    </div>"
      ]
     },
     "metadata": {},
     "output_type": "display_data"
    },
    {
     "data": {
      "application/javascript": [
       "\n",
       "(function(root) {\n",
       "  function now() {\n",
       "    return new Date();\n",
       "  }\n",
       "\n",
       "  var force = true;\n",
       "\n",
       "  if (typeof (root._bokeh_onload_callbacks) === \"undefined\" || force === true) {\n",
       "    root._bokeh_onload_callbacks = [];\n",
       "    root._bokeh_is_loading = undefined;\n",
       "  }\n",
       "\n",
       "  var JS_MIME_TYPE = 'application/javascript';\n",
       "  var HTML_MIME_TYPE = 'text/html';\n",
       "  var EXEC_MIME_TYPE = 'application/vnd.bokehjs_exec.v0+json';\n",
       "  var CLASS_NAME = 'output_bokeh rendered_html';\n",
       "\n",
       "  /**\n",
       "   * Render data to the DOM node\n",
       "   */\n",
       "  function render(props, node) {\n",
       "    var script = document.createElement(\"script\");\n",
       "    node.appendChild(script);\n",
       "  }\n",
       "\n",
       "  /**\n",
       "   * Handle when an output is cleared or removed\n",
       "   */\n",
       "  function handleClearOutput(event, handle) {\n",
       "    var cell = handle.cell;\n",
       "\n",
       "    var id = cell.output_area._bokeh_element_id;\n",
       "    var server_id = cell.output_area._bokeh_server_id;\n",
       "    // Clean up Bokeh references\n",
       "    if (id != null && id in Bokeh.index) {\n",
       "      Bokeh.index[id].model.document.clear();\n",
       "      delete Bokeh.index[id];\n",
       "    }\n",
       "\n",
       "    if (server_id !== undefined) {\n",
       "      // Clean up Bokeh references\n",
       "      var cmd = \"from bokeh.io.state import curstate; print(curstate().uuid_to_server['\" + server_id + \"'].get_sessions()[0].document.roots[0]._id)\";\n",
       "      cell.notebook.kernel.execute(cmd, {\n",
       "        iopub: {\n",
       "          output: function(msg) {\n",
       "            var id = msg.content.text.trim();\n",
       "            if (id in Bokeh.index) {\n",
       "              Bokeh.index[id].model.document.clear();\n",
       "              delete Bokeh.index[id];\n",
       "            }\n",
       "          }\n",
       "        }\n",
       "      });\n",
       "      // Destroy server and session\n",
       "      var cmd = \"import bokeh.io.notebook as ion; ion.destroy_server('\" + server_id + \"')\";\n",
       "      cell.notebook.kernel.execute(cmd);\n",
       "    }\n",
       "  }\n",
       "\n",
       "  /**\n",
       "   * Handle when a new output is added\n",
       "   */\n",
       "  function handleAddOutput(event, handle) {\n",
       "    var output_area = handle.output_area;\n",
       "    var output = handle.output;\n",
       "\n",
       "    // limit handleAddOutput to display_data with EXEC_MIME_TYPE content only\n",
       "    if ((output.output_type != \"display_data\") || (!output.data.hasOwnProperty(EXEC_MIME_TYPE))) {\n",
       "      return\n",
       "    }\n",
       "\n",
       "    var toinsert = output_area.element.find(\".\" + CLASS_NAME.split(' ')[0]);\n",
       "\n",
       "    if (output.metadata[EXEC_MIME_TYPE][\"id\"] !== undefined) {\n",
       "      toinsert[toinsert.length - 1].firstChild.textContent = output.data[JS_MIME_TYPE];\n",
       "      // store reference to embed id on output_area\n",
       "      output_area._bokeh_element_id = output.metadata[EXEC_MIME_TYPE][\"id\"];\n",
       "    }\n",
       "    if (output.metadata[EXEC_MIME_TYPE][\"server_id\"] !== undefined) {\n",
       "      var bk_div = document.createElement(\"div\");\n",
       "      bk_div.innerHTML = output.data[HTML_MIME_TYPE];\n",
       "      var script_attrs = bk_div.children[0].attributes;\n",
       "      for (var i = 0; i < script_attrs.length; i++) {\n",
       "        toinsert[toinsert.length - 1].firstChild.setAttribute(script_attrs[i].name, script_attrs[i].value);\n",
       "      }\n",
       "      // store reference to server id on output_area\n",
       "      output_area._bokeh_server_id = output.metadata[EXEC_MIME_TYPE][\"server_id\"];\n",
       "    }\n",
       "  }\n",
       "\n",
       "  function register_renderer(events, OutputArea) {\n",
       "\n",
       "    function append_mime(data, metadata, element) {\n",
       "      // create a DOM node to render to\n",
       "      var toinsert = this.create_output_subarea(\n",
       "        metadata,\n",
       "        CLASS_NAME,\n",
       "        EXEC_MIME_TYPE\n",
       "      );\n",
       "      this.keyboard_manager.register_events(toinsert);\n",
       "      // Render to node\n",
       "      var props = {data: data, metadata: metadata[EXEC_MIME_TYPE]};\n",
       "      render(props, toinsert[toinsert.length - 1]);\n",
       "      element.append(toinsert);\n",
       "      return toinsert\n",
       "    }\n",
       "\n",
       "    /* Handle when an output is cleared or removed */\n",
       "    events.on('clear_output.CodeCell', handleClearOutput);\n",
       "    events.on('delete.Cell', handleClearOutput);\n",
       "\n",
       "    /* Handle when a new output is added */\n",
       "    events.on('output_added.OutputArea', handleAddOutput);\n",
       "\n",
       "    /**\n",
       "     * Register the mime type and append_mime function with output_area\n",
       "     */\n",
       "    OutputArea.prototype.register_mime_type(EXEC_MIME_TYPE, append_mime, {\n",
       "      /* Is output safe? */\n",
       "      safe: true,\n",
       "      /* Index of renderer in `output_area.display_order` */\n",
       "      index: 0\n",
       "    });\n",
       "  }\n",
       "\n",
       "  // register the mime type if in Jupyter Notebook environment and previously unregistered\n",
       "  if (root.Jupyter !== undefined) {\n",
       "    var events = require('base/js/events');\n",
       "    var OutputArea = require('notebook/js/outputarea').OutputArea;\n",
       "\n",
       "    if (OutputArea.prototype.mime_types().indexOf(EXEC_MIME_TYPE) == -1) {\n",
       "      register_renderer(events, OutputArea);\n",
       "    }\n",
       "  }\n",
       "\n",
       "  \n",
       "  if (typeof (root._bokeh_timeout) === \"undefined\" || force === true) {\n",
       "    root._bokeh_timeout = Date.now() + 5000;\n",
       "    root._bokeh_failed_load = false;\n",
       "  }\n",
       "\n",
       "  var NB_LOAD_WARNING = {'data': {'text/html':\n",
       "     \"<div style='background-color: #fdd'>\\n\"+\n",
       "     \"<p>\\n\"+\n",
       "     \"BokehJS does not appear to have successfully loaded. If loading BokehJS from CDN, this \\n\"+\n",
       "     \"may be due to a slow or bad network connection. Possible fixes:\\n\"+\n",
       "     \"</p>\\n\"+\n",
       "     \"<ul>\\n\"+\n",
       "     \"<li>re-rerun `output_notebook()` to attempt to load from CDN again, or</li>\\n\"+\n",
       "     \"<li>use INLINE resources instead, as so:</li>\\n\"+\n",
       "     \"</ul>\\n\"+\n",
       "     \"<code>\\n\"+\n",
       "     \"from bokeh.resources import INLINE\\n\"+\n",
       "     \"output_notebook(resources=INLINE)\\n\"+\n",
       "     \"</code>\\n\"+\n",
       "     \"</div>\"}};\n",
       "\n",
       "  function display_loaded() {\n",
       "    var el = document.getElementById(\"1001\");\n",
       "    if (el != null) {\n",
       "      el.textContent = \"BokehJS is loading...\";\n",
       "    }\n",
       "    if (root.Bokeh !== undefined) {\n",
       "      if (el != null) {\n",
       "        el.textContent = \"BokehJS \" + root.Bokeh.version + \" successfully loaded.\";\n",
       "      }\n",
       "    } else if (Date.now() < root._bokeh_timeout) {\n",
       "      setTimeout(display_loaded, 100)\n",
       "    }\n",
       "  }\n",
       "\n",
       "\n",
       "  function run_callbacks() {\n",
       "    try {\n",
       "      root._bokeh_onload_callbacks.forEach(function(callback) { callback() });\n",
       "    }\n",
       "    finally {\n",
       "      delete root._bokeh_onload_callbacks\n",
       "    }\n",
       "    console.info(\"Bokeh: all callbacks have finished\");\n",
       "  }\n",
       "\n",
       "  function load_libs(js_urls, callback) {\n",
       "    root._bokeh_onload_callbacks.push(callback);\n",
       "    if (root._bokeh_is_loading > 0) {\n",
       "      console.log(\"Bokeh: BokehJS is being loaded, scheduling callback at\", now());\n",
       "      return null;\n",
       "    }\n",
       "    if (js_urls == null || js_urls.length === 0) {\n",
       "      run_callbacks();\n",
       "      return null;\n",
       "    }\n",
       "    console.log(\"Bokeh: BokehJS not loaded, scheduling load and callback at\", now());\n",
       "    root._bokeh_is_loading = js_urls.length;\n",
       "    for (var i = 0; i < js_urls.length; i++) {\n",
       "      var url = js_urls[i];\n",
       "      var s = document.createElement('script');\n",
       "      s.src = url;\n",
       "      s.async = false;\n",
       "      s.onreadystatechange = s.onload = function() {\n",
       "        root._bokeh_is_loading--;\n",
       "        if (root._bokeh_is_loading === 0) {\n",
       "          console.log(\"Bokeh: all BokehJS libraries loaded\");\n",
       "          run_callbacks()\n",
       "        }\n",
       "      };\n",
       "      s.onerror = function() {\n",
       "        console.warn(\"failed to load library \" + url);\n",
       "      };\n",
       "      console.log(\"Bokeh: injecting script tag for BokehJS library: \", url);\n",
       "      document.getElementsByTagName(\"head\")[0].appendChild(s);\n",
       "    }\n",
       "  };var element = document.getElementById(\"1001\");\n",
       "  if (element == null) {\n",
       "    console.log(\"Bokeh: ERROR: autoload.js configured with elementid '1001' but no matching script tag was found. \")\n",
       "    return false;\n",
       "  }\n",
       "\n",
       "  var js_urls = [\"https://cdn.pydata.org/bokeh/release/bokeh-1.0.4.min.js\", \"https://cdn.pydata.org/bokeh/release/bokeh-widgets-1.0.4.min.js\", \"https://cdn.pydata.org/bokeh/release/bokeh-tables-1.0.4.min.js\", \"https://cdn.pydata.org/bokeh/release/bokeh-gl-1.0.4.min.js\"];\n",
       "\n",
       "  var inline_js = [\n",
       "    function(Bokeh) {\n",
       "      Bokeh.set_log_level(\"info\");\n",
       "    },\n",
       "    \n",
       "    function(Bokeh) {\n",
       "      \n",
       "    },\n",
       "    function(Bokeh) {\n",
       "      console.log(\"Bokeh: injecting CSS: https://cdn.pydata.org/bokeh/release/bokeh-1.0.4.min.css\");\n",
       "      Bokeh.embed.inject_css(\"https://cdn.pydata.org/bokeh/release/bokeh-1.0.4.min.css\");\n",
       "      console.log(\"Bokeh: injecting CSS: https://cdn.pydata.org/bokeh/release/bokeh-widgets-1.0.4.min.css\");\n",
       "      Bokeh.embed.inject_css(\"https://cdn.pydata.org/bokeh/release/bokeh-widgets-1.0.4.min.css\");\n",
       "      console.log(\"Bokeh: injecting CSS: https://cdn.pydata.org/bokeh/release/bokeh-tables-1.0.4.min.css\");\n",
       "      Bokeh.embed.inject_css(\"https://cdn.pydata.org/bokeh/release/bokeh-tables-1.0.4.min.css\");\n",
       "    }\n",
       "  ];\n",
       "\n",
       "  function run_inline_js() {\n",
       "    \n",
       "    if ((root.Bokeh !== undefined) || (force === true)) {\n",
       "      for (var i = 0; i < inline_js.length; i++) {\n",
       "        inline_js[i].call(root, root.Bokeh);\n",
       "      }if (force === true) {\n",
       "        display_loaded();\n",
       "      }} else if (Date.now() < root._bokeh_timeout) {\n",
       "      setTimeout(run_inline_js, 100);\n",
       "    } else if (!root._bokeh_failed_load) {\n",
       "      console.log(\"Bokeh: BokehJS failed to load within specified timeout.\");\n",
       "      root._bokeh_failed_load = true;\n",
       "    } else if (force !== true) {\n",
       "      var cell = $(document.getElementById(\"1001\")).parents('.cell').data().cell;\n",
       "      cell.output_area.append_execute_result(NB_LOAD_WARNING)\n",
       "    }\n",
       "\n",
       "  }\n",
       "\n",
       "  if (root._bokeh_is_loading === 0) {\n",
       "    console.log(\"Bokeh: BokehJS loaded, going straight to plotting\");\n",
       "    run_inline_js();\n",
       "  } else {\n",
       "    load_libs(js_urls, function() {\n",
       "      console.log(\"Bokeh: BokehJS plotting callback run at\", now());\n",
       "      run_inline_js();\n",
       "    });\n",
       "  }\n",
       "}(window));"
      ],
      "application/vnd.bokehjs_load.v0+json": "\n(function(root) {\n  function now() {\n    return new Date();\n  }\n\n  var force = true;\n\n  if (typeof (root._bokeh_onload_callbacks) === \"undefined\" || force === true) {\n    root._bokeh_onload_callbacks = [];\n    root._bokeh_is_loading = undefined;\n  }\n\n  \n\n  \n  if (typeof (root._bokeh_timeout) === \"undefined\" || force === true) {\n    root._bokeh_timeout = Date.now() + 5000;\n    root._bokeh_failed_load = false;\n  }\n\n  var NB_LOAD_WARNING = {'data': {'text/html':\n     \"<div style='background-color: #fdd'>\\n\"+\n     \"<p>\\n\"+\n     \"BokehJS does not appear to have successfully loaded. If loading BokehJS from CDN, this \\n\"+\n     \"may be due to a slow or bad network connection. Possible fixes:\\n\"+\n     \"</p>\\n\"+\n     \"<ul>\\n\"+\n     \"<li>re-rerun `output_notebook()` to attempt to load from CDN again, or</li>\\n\"+\n     \"<li>use INLINE resources instead, as so:</li>\\n\"+\n     \"</ul>\\n\"+\n     \"<code>\\n\"+\n     \"from bokeh.resources import INLINE\\n\"+\n     \"output_notebook(resources=INLINE)\\n\"+\n     \"</code>\\n\"+\n     \"</div>\"}};\n\n  function display_loaded() {\n    var el = document.getElementById(\"1001\");\n    if (el != null) {\n      el.textContent = \"BokehJS is loading...\";\n    }\n    if (root.Bokeh !== undefined) {\n      if (el != null) {\n        el.textContent = \"BokehJS \" + root.Bokeh.version + \" successfully loaded.\";\n      }\n    } else if (Date.now() < root._bokeh_timeout) {\n      setTimeout(display_loaded, 100)\n    }\n  }\n\n\n  function run_callbacks() {\n    try {\n      root._bokeh_onload_callbacks.forEach(function(callback) { callback() });\n    }\n    finally {\n      delete root._bokeh_onload_callbacks\n    }\n    console.info(\"Bokeh: all callbacks have finished\");\n  }\n\n  function load_libs(js_urls, callback) {\n    root._bokeh_onload_callbacks.push(callback);\n    if (root._bokeh_is_loading > 0) {\n      console.log(\"Bokeh: BokehJS is being loaded, scheduling callback at\", now());\n      return null;\n    }\n    if (js_urls == null || js_urls.length === 0) {\n      run_callbacks();\n      return null;\n    }\n    console.log(\"Bokeh: BokehJS not loaded, scheduling load and callback at\", now());\n    root._bokeh_is_loading = js_urls.length;\n    for (var i = 0; i < js_urls.length; i++) {\n      var url = js_urls[i];\n      var s = document.createElement('script');\n      s.src = url;\n      s.async = false;\n      s.onreadystatechange = s.onload = function() {\n        root._bokeh_is_loading--;\n        if (root._bokeh_is_loading === 0) {\n          console.log(\"Bokeh: all BokehJS libraries loaded\");\n          run_callbacks()\n        }\n      };\n      s.onerror = function() {\n        console.warn(\"failed to load library \" + url);\n      };\n      console.log(\"Bokeh: injecting script tag for BokehJS library: \", url);\n      document.getElementsByTagName(\"head\")[0].appendChild(s);\n    }\n  };var element = document.getElementById(\"1001\");\n  if (element == null) {\n    console.log(\"Bokeh: ERROR: autoload.js configured with elementid '1001' but no matching script tag was found. \")\n    return false;\n  }\n\n  var js_urls = [\"https://cdn.pydata.org/bokeh/release/bokeh-1.0.4.min.js\", \"https://cdn.pydata.org/bokeh/release/bokeh-widgets-1.0.4.min.js\", \"https://cdn.pydata.org/bokeh/release/bokeh-tables-1.0.4.min.js\", \"https://cdn.pydata.org/bokeh/release/bokeh-gl-1.0.4.min.js\"];\n\n  var inline_js = [\n    function(Bokeh) {\n      Bokeh.set_log_level(\"info\");\n    },\n    \n    function(Bokeh) {\n      \n    },\n    function(Bokeh) {\n      console.log(\"Bokeh: injecting CSS: https://cdn.pydata.org/bokeh/release/bokeh-1.0.4.min.css\");\n      Bokeh.embed.inject_css(\"https://cdn.pydata.org/bokeh/release/bokeh-1.0.4.min.css\");\n      console.log(\"Bokeh: injecting CSS: https://cdn.pydata.org/bokeh/release/bokeh-widgets-1.0.4.min.css\");\n      Bokeh.embed.inject_css(\"https://cdn.pydata.org/bokeh/release/bokeh-widgets-1.0.4.min.css\");\n      console.log(\"Bokeh: injecting CSS: https://cdn.pydata.org/bokeh/release/bokeh-tables-1.0.4.min.css\");\n      Bokeh.embed.inject_css(\"https://cdn.pydata.org/bokeh/release/bokeh-tables-1.0.4.min.css\");\n    }\n  ];\n\n  function run_inline_js() {\n    \n    if ((root.Bokeh !== undefined) || (force === true)) {\n      for (var i = 0; i < inline_js.length; i++) {\n        inline_js[i].call(root, root.Bokeh);\n      }if (force === true) {\n        display_loaded();\n      }} else if (Date.now() < root._bokeh_timeout) {\n      setTimeout(run_inline_js, 100);\n    } else if (!root._bokeh_failed_load) {\n      console.log(\"Bokeh: BokehJS failed to load within specified timeout.\");\n      root._bokeh_failed_load = true;\n    } else if (force !== true) {\n      var cell = $(document.getElementById(\"1001\")).parents('.cell').data().cell;\n      cell.output_area.append_execute_result(NB_LOAD_WARNING)\n    }\n\n  }\n\n  if (root._bokeh_is_loading === 0) {\n    console.log(\"Bokeh: BokehJS loaded, going straight to plotting\");\n    run_inline_js();\n  } else {\n    load_libs(js_urls, function() {\n      console.log(\"Bokeh: BokehJS plotting callback run at\", now());\n      run_inline_js();\n    });\n  }\n}(window));"
     },
     "metadata": {},
     "output_type": "display_data"
    }
   ],
   "source": [
    "#- Basic imports\n",
    "import numpy as np\n",
    "import bokeh.plotting as bk\n",
    "bk.output_notebook()"
   ]
  },
  {
   "cell_type": "code",
   "execution_count": 2,
   "metadata": {},
   "outputs": [
    {
     "data": {
      "text/html": [
       "\n",
       "\n",
       "\n",
       "\n",
       "\n",
       "\n",
       "  <div class=\"bk-root\" id=\"62e6ad1f-1ead-42c5-87f3-8b648fb57821\" data-root-id=\"1085\"></div>\n"
      ]
     },
     "metadata": {},
     "output_type": "display_data"
    },
    {
     "data": {
      "application/javascript": [
       "(function(root) {\n",
       "  function embed_document(root) {\n",
       "    \n",
       "  var docs_json = {\"7b1556c8-36dc-4f72-ba23-fc9531d6f652\":{\"roots\":{\"references\":[{\"attributes\":{\"children\":[{\"id\":\"1002\",\"subtype\":\"Figure\",\"type\":\"Plot\"},{\"id\":\"1041\",\"subtype\":\"Figure\",\"type\":\"Plot\"}]},\"id\":\"1085\",\"type\":\"Row\"},{\"attributes\":{\"formatter\":{\"id\":\"1091\",\"type\":\"BasicTickFormatter\"},\"plot\":{\"id\":\"1002\",\"subtype\":\"Figure\",\"type\":\"Plot\"},\"ticker\":{\"id\":\"1017\",\"type\":\"BasicTicker\"}},\"id\":\"1016\",\"type\":\"LinearAxis\"},{\"attributes\":{\"callback\":null},\"id\":\"1044\",\"type\":\"DataRange1d\"},{\"attributes\":{\"bottom_units\":\"screen\",\"fill_alpha\":{\"value\":0.5},\"fill_color\":{\"value\":\"lightgrey\"},\"left_units\":\"screen\",\"level\":\"overlay\",\"line_alpha\":{\"value\":1.0},\"line_color\":{\"value\":\"black\"},\"line_dash\":[4,4],\"line_width\":{\"value\":2},\"plot\":null,\"render_mode\":\"css\",\"right_units\":\"screen\",\"top_units\":\"screen\"},\"id\":\"1068\",\"type\":\"BoxAnnotation\"},{\"attributes\":{},\"id\":\"1017\",\"type\":\"BasicTicker\"},{\"attributes\":{},\"id\":\"1103\",\"type\":\"Selection\"},{\"attributes\":{\"fill_color\":{\"value\":\"#1f77b4\"},\"line_color\":{\"value\":\"#1f77b4\"},\"x\":{\"field\":\"x\"},\"y\":{\"field\":\"y\"}},\"id\":\"1037\",\"type\":\"Scatter\"},{\"attributes\":{},\"id\":\"1046\",\"type\":\"LinearScale\"},{\"attributes\":{\"dimension\":1,\"plot\":{\"id\":\"1002\",\"subtype\":\"Figure\",\"type\":\"Plot\"},\"ticker\":{\"id\":\"1017\",\"type\":\"BasicTicker\"}},\"id\":\"1020\",\"type\":\"Grid\"},{\"attributes\":{\"data_source\":{\"id\":\"1075\",\"type\":\"ColumnDataSource\"},\"glyph\":{\"id\":\"1076\",\"type\":\"Line\"},\"hover_glyph\":null,\"muted_glyph\":null,\"nonselection_glyph\":{\"id\":\"1077\",\"type\":\"Line\"},\"selection_glyph\":null,\"view\":{\"id\":\"1079\",\"type\":\"CDSView\"}},\"id\":\"1078\",\"type\":\"GlyphRenderer\"},{\"attributes\":{},\"id\":\"1104\",\"type\":\"UnionRenderers\"},{\"attributes\":{},\"id\":\"1048\",\"type\":\"LinearScale\"},{\"attributes\":{\"active_drag\":\"auto\",\"active_inspect\":\"auto\",\"active_multi\":null,\"active_scroll\":\"auto\",\"active_tap\":\"auto\",\"tools\":[{\"id\":\"1021\",\"type\":\"PanTool\"},{\"id\":\"1022\",\"type\":\"WheelZoomTool\"},{\"id\":\"1023\",\"type\":\"BoxZoomTool\"},{\"id\":\"1024\",\"type\":\"SaveTool\"},{\"id\":\"1025\",\"type\":\"ResetTool\"},{\"id\":\"1026\",\"type\":\"HelpTool\"}]},\"id\":\"1027\",\"type\":\"Toolbar\"},{\"attributes\":{\"source\":{\"id\":\"1075\",\"type\":\"ColumnDataSource\"}},\"id\":\"1079\",\"type\":\"CDSView\"},{\"attributes\":{},\"id\":\"1105\",\"type\":\"Selection\"},{\"attributes\":{\"formatter\":{\"id\":\"1097\",\"type\":\"BasicTickFormatter\"},\"plot\":{\"id\":\"1041\",\"subtype\":\"Figure\",\"type\":\"Plot\"},\"ticker\":{\"id\":\"1051\",\"type\":\"BasicTicker\"}},\"id\":\"1050\",\"type\":\"LinearAxis\"},{\"attributes\":{\"below\":[{\"id\":\"1050\",\"type\":\"LinearAxis\"}],\"left\":[{\"id\":\"1055\",\"type\":\"LinearAxis\"}],\"plot_height\":300,\"plot_width\":500,\"renderers\":[{\"id\":\"1050\",\"type\":\"LinearAxis\"},{\"id\":\"1054\",\"type\":\"Grid\"},{\"id\":\"1055\",\"type\":\"LinearAxis\"},{\"id\":\"1059\",\"type\":\"Grid\"},{\"id\":\"1068\",\"type\":\"BoxAnnotation\"},{\"id\":\"1078\",\"type\":\"GlyphRenderer\"},{\"id\":\"1083\",\"type\":\"GlyphRenderer\"}],\"title\":{\"id\":\"1089\",\"type\":\"Title\"},\"toolbar\":{\"id\":\"1066\",\"type\":\"Toolbar\"},\"x_range\":{\"id\":\"1042\",\"type\":\"DataRange1d\"},\"x_scale\":{\"id\":\"1046\",\"type\":\"LinearScale\"},\"y_range\":{\"id\":\"1044\",\"type\":\"DataRange1d\"},\"y_scale\":{\"id\":\"1048\",\"type\":\"LinearScale\"}},\"id\":\"1041\",\"subtype\":\"Figure\",\"type\":\"Plot\"},{\"attributes\":{\"data_source\":{\"id\":\"1036\",\"type\":\"ColumnDataSource\"},\"glyph\":{\"id\":\"1037\",\"type\":\"Scatter\"},\"hover_glyph\":null,\"muted_glyph\":null,\"nonselection_glyph\":{\"id\":\"1038\",\"type\":\"Scatter\"},\"selection_glyph\":null,\"view\":{\"id\":\"1040\",\"type\":\"CDSView\"}},\"id\":\"1039\",\"type\":\"GlyphRenderer\"},{\"attributes\":{\"fill_color\":{\"value\":\"orange\"},\"line_color\":{\"value\":\"orange\"},\"size\":{\"units\":\"screen\",\"value\":10},\"x\":{\"field\":\"x\"},\"y\":{\"field\":\"y\"}},\"id\":\"1081\",\"type\":\"Circle\"},{\"attributes\":{},\"id\":\"1051\",\"type\":\"BasicTicker\"},{\"attributes\":{\"callback\":null,\"data\":{\"x\":{\"__ndarray__\":\"AAAAAAAAAADdkjnqkLvbP92SOeqQu+s/Ji6rr6zM9D/dkjnqkLv7P8r7Y5I6VQFAJi6rr6zMBECBYPLMHkQIQN2SOeqQuwtAOcWABwMzD0DK+2OSOlURQPiUB6HzEBNAJi6rr6zMFEBUx06+ZYgWQIFg8sweRBhAr/mV29f/GUDdkjnqkLsbQAss3fhJdx1AOcWABwMzH0AzLxILXncgQMr7Y5I6VSFAYci1GRczIkD4lAeh8xAjQI9hWSjQ7iNAJi6rr6zMJEC9+vw2iaolQFTHTr5liCZA6pOgRUJmJ0CBYPLMHkQoQBgtRFT7ISlA\",\"dtype\":\"float64\",\"shape\":[30]},\"y\":{\"__ndarray__\":\"AAAAAAAAAABwe8mJdt/aP6bPoK2hY+g/oss9y2bV7j83hSQ3FZTvP5/4SqNtfOo/4dx8zWp/4D8L2jQgsK27P3PLX69vb9S/QxOoS6IB5r+feMtiLbrtv52Fjlj88++/i5EQDbtF7L9PeNRQll3jv8gSKMEmhMu/thIowSaEyz9SeNRQll3jP4yREA27Rew/noWOWPzz7z+geMtiLbrtP0MTqEuiAeY/dMtfr29v1D8I2jQgsK27v+XcfM1qf+C/ofhKo2186r84hSQ3FZTvv6DLPctm1e6/q8+graFj6L96e8mJdt/avwdcFDMmpsG8\",\"dtype\":\"float64\",\"shape\":[30]}},\"selected\":{\"id\":\"1105\",\"type\":\"Selection\"},\"selection_policy\":{\"id\":\"1104\",\"type\":\"UnionRenderers\"}},\"id\":\"1080\",\"type\":\"ColumnDataSource\"},{\"attributes\":{},\"id\":\"1021\",\"type\":\"PanTool\"},{\"attributes\":{},\"id\":\"1102\",\"type\":\"UnionRenderers\"},{\"attributes\":{\"plot\":{\"id\":\"1041\",\"subtype\":\"Figure\",\"type\":\"Plot\"},\"ticker\":{\"id\":\"1051\",\"type\":\"BasicTicker\"}},\"id\":\"1054\",\"type\":\"Grid\"},{\"attributes\":{\"fill_alpha\":{\"value\":0.1},\"fill_color\":{\"value\":\"#1f77b4\"},\"line_alpha\":{\"value\":0.1},\"line_color\":{\"value\":\"#1f77b4\"},\"size\":{\"units\":\"screen\",\"value\":10},\"x\":{\"field\":\"x\"},\"y\":{\"field\":\"y\"}},\"id\":\"1082\",\"type\":\"Circle\"},{\"attributes\":{},\"id\":\"1022\",\"type\":\"WheelZoomTool\"},{\"attributes\":{\"formatter\":{\"id\":\"1095\",\"type\":\"BasicTickFormatter\"},\"plot\":{\"id\":\"1041\",\"subtype\":\"Figure\",\"type\":\"Plot\"},\"ticker\":{\"id\":\"1056\",\"type\":\"BasicTicker\"}},\"id\":\"1055\",\"type\":\"LinearAxis\"},{\"attributes\":{\"data_source\":{\"id\":\"1080\",\"type\":\"ColumnDataSource\"},\"glyph\":{\"id\":\"1081\",\"type\":\"Circle\"},\"hover_glyph\":null,\"muted_glyph\":null,\"nonselection_glyph\":{\"id\":\"1082\",\"type\":\"Circle\"},\"selection_glyph\":null,\"view\":{\"id\":\"1084\",\"type\":\"CDSView\"}},\"id\":\"1083\",\"type\":\"GlyphRenderer\"},{\"attributes\":{\"overlay\":{\"id\":\"1029\",\"type\":\"BoxAnnotation\"}},\"id\":\"1023\",\"type\":\"BoxZoomTool\"},{\"attributes\":{},\"id\":\"1056\",\"type\":\"BasicTicker\"},{\"attributes\":{\"source\":{\"id\":\"1080\",\"type\":\"ColumnDataSource\"}},\"id\":\"1084\",\"type\":\"CDSView\"},{\"attributes\":{\"callback\":null,\"data\":{\"x\":{\"__ndarray__\":\"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\",\"dtype\":\"float64\",\"shape\":[500]},\"y\":{\"__ndarray__\":\"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\",\"dtype\":\"float64\",\"shape\":[500]}},\"selected\":{\"id\":\"1100\",\"type\":\"Selection\"},\"selection_policy\":{\"id\":\"1099\",\"type\":\"UnionRenderers\"}},\"id\":\"1036\",\"type\":\"ColumnDataSource\"},{\"attributes\":{},\"id\":\"1024\",\"type\":\"SaveTool\"},{\"attributes\":{\"dimension\":1,\"plot\":{\"id\":\"1041\",\"subtype\":\"Figure\",\"type\":\"Plot\"},\"ticker\":{\"id\":\"1056\",\"type\":\"BasicTicker\"}},\"id\":\"1059\",\"type\":\"Grid\"},{\"attributes\":{},\"id\":\"1025\",\"type\":\"ResetTool\"},{\"attributes\":{\"line_alpha\":0.1,\"line_color\":\"#1f77b4\",\"x\":{\"field\":\"x\"},\"y\":{\"field\":\"y\"}},\"id\":\"1077\",\"type\":\"Line\"},{\"attributes\":{\"below\":[{\"id\":\"1011\",\"type\":\"LinearAxis\"}],\"left\":[{\"id\":\"1016\",\"type\":\"LinearAxis\"}],\"plot_height\":300,\"plot_width\":300,\"renderers\":[{\"id\":\"1011\",\"type\":\"LinearAxis\"},{\"id\":\"1015\",\"type\":\"Grid\"},{\"id\":\"1016\",\"type\":\"LinearAxis\"},{\"id\":\"1020\",\"type\":\"Grid\"},{\"id\":\"1029\",\"type\":\"BoxAnnotation\"},{\"id\":\"1039\",\"type\":\"GlyphRenderer\"}],\"title\":{\"id\":\"1087\",\"type\":\"Title\"},\"toolbar\":{\"id\":\"1027\",\"type\":\"Toolbar\"},\"x_range\":{\"id\":\"1003\",\"type\":\"DataRange1d\"},\"x_scale\":{\"id\":\"1007\",\"type\":\"LinearScale\"},\"y_range\":{\"id\":\"1005\",\"type\":\"DataRange1d\"},\"y_scale\":{\"id\":\"1009\",\"type\":\"LinearScale\"}},\"id\":\"1002\",\"subtype\":\"Figure\",\"type\":\"Plot\"},{\"attributes\":{\"plot\":null,\"text\":\"\"},\"id\":\"1087\",\"type\":\"Title\"},{\"attributes\":{},\"id\":\"1026\",\"type\":\"HelpTool\"},{\"attributes\":{\"line_color\":\"#1f77b4\",\"x\":{\"field\":\"x\"},\"y\":{\"field\":\"y\"}},\"id\":\"1076\",\"type\":\"Line\"},{\"attributes\":{\"callback\":null},\"id\":\"1003\",\"type\":\"DataRange1d\"},{\"attributes\":{\"plot\":null,\"text\":\"\"},\"id\":\"1089\",\"type\":\"Title\"},{\"attributes\":{\"active_drag\":\"auto\",\"active_inspect\":\"auto\",\"active_multi\":null,\"active_scroll\":\"auto\",\"active_tap\":\"auto\",\"tools\":[{\"id\":\"1060\",\"type\":\"PanTool\"},{\"id\":\"1061\",\"type\":\"WheelZoomTool\"},{\"id\":\"1062\",\"type\":\"BoxZoomTool\"},{\"id\":\"1063\",\"type\":\"SaveTool\"},{\"id\":\"1064\",\"type\":\"ResetTool\"},{\"id\":\"1065\",\"type\":\"HelpTool\"}]},\"id\":\"1066\",\"type\":\"Toolbar\"},{\"attributes\":{\"callback\":null},\"id\":\"1005\",\"type\":\"DataRange1d\"},{\"attributes\":{},\"id\":\"1060\",\"type\":\"PanTool\"},{\"attributes\":{\"bottom_units\":\"screen\",\"fill_alpha\":{\"value\":0.5},\"fill_color\":{\"value\":\"lightgrey\"},\"left_units\":\"screen\",\"level\":\"overlay\",\"line_alpha\":{\"value\":1.0},\"line_color\":{\"value\":\"black\"},\"line_dash\":[4,4],\"line_width\":{\"value\":2},\"plot\":null,\"render_mode\":\"css\",\"right_units\":\"screen\",\"top_units\":\"screen\"},\"id\":\"1029\",\"type\":\"BoxAnnotation\"},{\"attributes\":{},\"id\":\"1091\",\"type\":\"BasicTickFormatter\"},{\"attributes\":{},\"id\":\"1007\",\"type\":\"LinearScale\"},{\"attributes\":{},\"id\":\"1061\",\"type\":\"WheelZoomTool\"},{\"attributes\":{},\"id\":\"1093\",\"type\":\"BasicTickFormatter\"},{\"attributes\":{},\"id\":\"1095\",\"type\":\"BasicTickFormatter\"},{\"attributes\":{},\"id\":\"1009\",\"type\":\"LinearScale\"},{\"attributes\":{\"overlay\":{\"id\":\"1068\",\"type\":\"BoxAnnotation\"}},\"id\":\"1062\",\"type\":\"BoxZoomTool\"},{\"attributes\":{},\"id\":\"1097\",\"type\":\"BasicTickFormatter\"},{\"attributes\":{\"source\":{\"id\":\"1036\",\"type\":\"ColumnDataSource\"}},\"id\":\"1040\",\"type\":\"CDSView\"},{\"attributes\":{\"fill_alpha\":{\"value\":0.1},\"fill_color\":{\"value\":\"#1f77b4\"},\"line_alpha\":{\"value\":0.1},\"line_color\":{\"value\":\"#1f77b4\"},\"x\":{\"field\":\"x\"},\"y\":{\"field\":\"y\"}},\"id\":\"1038\",\"type\":\"Scatter\"},{\"attributes\":{\"formatter\":{\"id\":\"1093\",\"type\":\"BasicTickFormatter\"},\"plot\":{\"id\":\"1002\",\"subtype\":\"Figure\",\"type\":\"Plot\"},\"ticker\":{\"id\":\"1012\",\"type\":\"BasicTicker\"}},\"id\":\"1011\",\"type\":\"LinearAxis\"},{\"attributes\":{},\"id\":\"1063\",\"type\":\"SaveTool\"},{\"attributes\":{},\"id\":\"1099\",\"type\":\"UnionRenderers\"},{\"attributes\":{},\"id\":\"1012\",\"type\":\"BasicTicker\"},{\"attributes\":{},\"id\":\"1064\",\"type\":\"ResetTool\"},{\"attributes\":{\"callback\":null,\"data\":{\"x\":{\"__ndarray__\":\"AAAAAAAAAADdkjnqkLvbP92SOeqQu+s/Ji6rr6zM9D/dkjnqkLv7P8r7Y5I6VQFAJi6rr6zMBECBYPLMHkQIQN2SOeqQuwtAOcWABwMzD0DK+2OSOlURQPiUB6HzEBNAJi6rr6zMFEBUx06+ZYgWQIFg8sweRBhAr/mV29f/GUDdkjnqkLsbQAss3fhJdx1AOcWABwMzH0AzLxILXncgQMr7Y5I6VSFAYci1GRczIkD4lAeh8xAjQI9hWSjQ7iNAJi6rr6zMJEC9+vw2iaolQFTHTr5liCZA6pOgRUJmJ0CBYPLMHkQoQBgtRFT7ISlA\",\"dtype\":\"float64\",\"shape\":[30]},\"y\":{\"__ndarray__\":\"AAAAAAAAAABwe8mJdt/aP6bPoK2hY+g/oss9y2bV7j83hSQ3FZTvP5/4SqNtfOo/4dx8zWp/4D8L2jQgsK27P3PLX69vb9S/QxOoS6IB5r+feMtiLbrtv52Fjlj88++/i5EQDbtF7L9PeNRQll3jv8gSKMEmhMu/thIowSaEyz9SeNRQll3jP4yREA27Rew/noWOWPzz7z+geMtiLbrtP0MTqEuiAeY/dMtfr29v1D8I2jQgsK27v+XcfM1qf+C/ofhKo2186r84hSQ3FZTvv6DLPctm1e6/q8+graFj6L96e8mJdt/avwdcFDMmpsG8\",\"dtype\":\"float64\",\"shape\":[30]}},\"selected\":{\"id\":\"1103\",\"type\":\"Selection\"},\"selection_policy\":{\"id\":\"1102\",\"type\":\"UnionRenderers\"}},\"id\":\"1075\",\"type\":\"ColumnDataSource\"},{\"attributes\":{},\"id\":\"1100\",\"type\":\"Selection\"},{\"attributes\":{},\"id\":\"1065\",\"type\":\"HelpTool\"},{\"attributes\":{\"callback\":null},\"id\":\"1042\",\"type\":\"DataRange1d\"},{\"attributes\":{\"plot\":{\"id\":\"1002\",\"subtype\":\"Figure\",\"type\":\"Plot\"},\"ticker\":{\"id\":\"1012\",\"type\":\"BasicTicker\"}},\"id\":\"1015\",\"type\":\"Grid\"}],\"root_ids\":[\"1085\"]},\"title\":\"Bokeh Application\",\"version\":\"1.0.4\"}};\n",
       "  var render_items = [{\"docid\":\"7b1556c8-36dc-4f72-ba23-fc9531d6f652\",\"roots\":{\"1085\":\"62e6ad1f-1ead-42c5-87f3-8b648fb57821\"}}];\n",
       "  root.Bokeh.embed.embed_items_notebook(docs_json, render_items);\n",
       "\n",
       "  }\n",
       "  if (root.Bokeh !== undefined) {\n",
       "    embed_document(root);\n",
       "  } else {\n",
       "    var attempts = 0;\n",
       "    var timer = setInterval(function(root) {\n",
       "      if (root.Bokeh !== undefined) {\n",
       "        embed_document(root);\n",
       "        clearInterval(timer);\n",
       "      }\n",
       "      attempts++;\n",
       "      if (attempts > 100) {\n",
       "        console.log(\"Bokeh: ERROR: Unable to run BokehJS code because BokehJS library is missing\");\n",
       "        clearInterval(timer);\n",
       "      }\n",
       "    }, 10, root)\n",
       "  }\n",
       "})(window);"
      ],
      "application/vnd.bokehjs_exec.v0+json": ""
     },
     "metadata": {
      "application/vnd.bokehjs_exec.v0+json": {
       "id": "1085"
      }
     },
     "output_type": "display_data"
    }
   ],
   "source": [
    "x = np.random.normal(size=500)\n",
    "y = np.random.normal(size=500)\n",
    "\n",
    "fig1 = bk.figure(width=300, height=300)\n",
    "fig1.scatter(x, y)\n",
    "\n",
    "x = np.linspace(0, 4*np.pi, 30)\n",
    "y = np.sin(x)\n",
    "fig2 = bk.figure(width=500, height=300)\n",
    "fig2.line(x, y)\n",
    "fig2.circle(x, y, color='orange', size=10)\n",
    "\n",
    "bk.show(bk.Row(fig1, fig2))"
   ]
  },
  {
   "cell_type": "markdown",
   "metadata": {},
   "source": [
    "## FITS files and astropy Tables\n",
    "\n",
    "FITS (Flexible Image Transport System) is the most common data format in astronomy, in use for almost 4 decades.  FITS files contain multiple \"Header Data Units\" (HDUs), where each HDU contains an ASCII \"header\" with keyword/value pairs of metadata followed by binary data that can be either an N-dimensional array or a table with named columns and rows of data.  For this project we'll mainly use the binary tables, and the `astropy.table.Table` interface to them."
   ]
  },
  {
   "cell_type": "code",
   "execution_count": 3,
   "metadata": {},
   "outputs": [
    {
     "data": {
      "text/html": [
       "<i>Table length=5</i>\n",
       "<table id=\"table4875798120\" class=\"table-striped table-bordered table-condensed\">\n",
       "<thead><tr><th>TILEID</th><th>RA</th><th>DEC</th><th>PASS</th><th>IN_DESI</th><th>EBV_MED</th><th>AIRMASS</th><th>STAR_DENSITY</th><th>EXPOSEFAC</th><th>PROGRAM</th><th>OBSCONDITIONS</th></tr></thead>\n",
       "<thead><tr><th>int32</th><th>float64</th><th>float64</th><th>int16</th><th>int16</th><th>float32</th><th>float32</th><th>float32</th><th>float32</th><th>bytes6</th><th>int32</th></tr></thead>\n",
       "<tr><td>1</td><td>304.11</td><td>16.57</td><td>0</td><td>0</td><td>0.18588032</td><td>1.067882</td><td>25493.762</td><td>3.3637536</td><td>DARK</td><td>1</td></tr>\n",
       "<tr><td>2</td><td>306.47</td><td>15.11</td><td>0</td><td>0</td><td>0.1337724</td><td>1.0762441</td><td>17306.73</td><td>2.4738233</td><td>DARK</td><td>1</td></tr>\n",
       "<tr><td>3</td><td>308.78999999999996</td><td>13.63</td><td>0</td><td>0</td><td>0.08875092</td><td>1.0855807</td><td>13923.197</td><td>1.9014858</td><td>DARK</td><td>1</td></tr>\n",
       "<tr><td>4</td><td>335.03</td><td>19.88</td><td>0</td><td>1</td><td>0.051561452</td><td>1.0518898</td><td>3973.278</td><td>1.4578364</td><td>DARK</td><td>1</td></tr>\n",
       "<tr><td>5</td><td>313.31999999999994</td><td>10.62</td><td>0</td><td>0</td><td>0.08852036</td><td>1.107391</td><td>8475.746</td><td>1.9466255</td><td>DARK</td><td>1</td></tr>\n",
       "</table>"
      ],
      "text/plain": [
       "<Table length=5>\n",
       "TILEID         RA           DEC    PASS ... EXPOSEFAC PROGRAM OBSCONDITIONS\n",
       "int32       float64       float64 int16 ...  float32   bytes6     int32    \n",
       "------ ------------------ ------- ----- ... --------- ------- -------------\n",
       "     1             304.11   16.57     0 ... 3.3637536    DARK             1\n",
       "     2             306.47   15.11     0 ... 2.4738233    DARK             1\n",
       "     3 308.78999999999996   13.63     0 ... 1.9014858    DARK             1\n",
       "     4             335.03   19.88     0 ... 1.4578364    DARK             1\n",
       "     5 313.31999999999994   10.62     0 ... 1.9466255    DARK             1"
      ]
     },
     "execution_count": 3,
     "metadata": {},
     "output_type": "execute_result"
    }
   ],
   "source": [
    "from astropy.table import Table\n",
    "tiles = Table.read('desi-tiles.fits')\n",
    "tiles[0:5]"
   ]
  },
  {
   "cell_type": "code",
   "execution_count": 4,
   "metadata": {},
   "outputs": [
    {
     "name": "stdout",
     "output_type": "stream",
     "text": [
      "Keeping 16071 of 30898 tiles\n"
     ]
    }
   ],
   "source": [
    "#- Trim tiles to just the ones that are observable by DESI\n",
    "keep = tiles['IN_DESI'] > 0\n",
    "print('Keeping {} of {} tiles'.format(np.count_nonzero(keep), len(tiles)))\n",
    "tiles = tiles[keep]"
   ]
  },
  {
   "cell_type": "code",
   "execution_count": 5,
   "metadata": {},
   "outputs": [
    {
     "data": {
      "text/html": [
       "<i>Table masked=True length=5</i>\n",
       "<table id=\"table4597326232\" class=\"table-striped table-bordered table-condensed\">\n",
       "<thead><tr><th>EXPID</th><th>MJD</th><th>EXPTIME</th><th>TILEID</th><th>SNR2FRAC</th><th>AIRMASS</th><th>SEEING</th><th>TRANSP</th><th>SKY</th><th>PROGRAM</th><th>NIGHT</th><th>FLAVOR</th><th>MOONFRAC</th><th>MOONALT</th><th>MOONSEP</th><th>RA</th><th>DEC</th><th>PASS</th></tr></thead>\n",
       "<thead><tr><th>int32</th><th>float64</th><th>float32</th><th>int32</th><th>float32</th><th>float32</th><th>float32</th><th>float32</th><th>float32</th><th>bytes6</th><th>bytes8</th><th>bytes7</th><th>float64</th><th>float64</th><th>float64</th><th>float64</th><th>float64</th><th>int16</th></tr></thead>\n",
       "<tr><td>6</td><td>58821.063888888886</td><td>1040.0</td><td>24346</td><td>0.5039122</td><td>1.000185</td><td>1.0285894</td><td>0.9708182</td><td>1.0</td><td>GRAY</td><td>20191203</td><td>science</td><td>0.5026966578889441</td><td>45.11630841034253</td><td>45.65544084275721</td><td>344.53999999999996</td><td>32.61</td><td>4</td></tr>\n",
       "<tr><td>7</td><td>58821.07662037016</td><td>690.0</td><td>24346</td><td>0.8773183</td><td>1.000185</td><td>1.2763733</td><td>0.80424196</td><td>1.0</td><td>GRAY</td><td>20191203</td><td>science</td><td>0.503887999439621</td><td>44.84625076956015</td><td>45.59938026687308</td><td>344.53999999999996</td><td>32.61</td><td>4</td></tr>\n",
       "<tr><td>8</td><td>58821.08599537001</td><td>710.0</td><td>24084</td><td>0.34194383</td><td>1.0013524</td><td>1.1137799</td><td>0.8847155</td><td>1.0</td><td>GRAY</td><td>20191203</td><td>science</td><td>0.5047652600370685</td><td>44.38640235831237</td><td>46.05044348649063</td><td>348.0899999999999</td><td>32.84</td><td>4</td></tr>\n",
       "<tr><td>9</td><td>58821.09490740691</td><td>710.0</td><td>24084</td><td>0.67199266</td><td>1.0013524</td><td>1.060869</td><td>0.92004615</td><td>1.0</td><td>GRAY</td><td>20191203</td><td>science</td><td>0.5055991991229509</td><td>43.74809777799925</td><td>46.006151207491115</td><td>348.0899999999999</td><td>32.84</td><td>4</td></tr>\n",
       "<tr><td>10</td><td>58821.1038194438</td><td>470.0</td><td>24084</td><td>0.77594596</td><td>1.0013524</td><td>1.2519054</td><td>0.6598147</td><td>1.0</td><td>GRAY</td><td>20191203</td><td>science</td><td>0.5064331382088333</td><td>42.924178482303326</td><td>45.961337452300675</td><td>348.0899999999999</td><td>32.84</td><td>4</td></tr>\n",
       "</table>"
      ],
      "text/plain": [
       "<Table masked=True length=5>\n",
       "EXPID        MJD         EXPTIME TILEID ...         RA           DEC    PASS\n",
       "int32      float64       float32 int32  ...      float64       float64 int16\n",
       "----- ------------------ ------- ------ ... ------------------ ------- -----\n",
       "    6 58821.063888888886  1040.0  24346 ... 344.53999999999996   32.61     4\n",
       "    7  58821.07662037016   690.0  24346 ... 344.53999999999996   32.61     4\n",
       "    8  58821.08599537001   710.0  24084 ...  348.0899999999999   32.84     4\n",
       "    9  58821.09490740691   710.0  24084 ...  348.0899999999999   32.84     4\n",
       "   10   58821.1038194438   470.0  24084 ...  348.0899999999999   32.84     4"
      ]
     },
     "execution_count": 5,
     "metadata": {},
     "output_type": "execute_result"
    }
   ],
   "source": [
    "#- Read exposures\n",
    "exposures = Table.read('exposures.fits')\n",
    "\n",
    "#- Remove calibration exposures\n",
    "keep = exposures['PROGRAM'] != 'CALIB'\n",
    "exposures = exposures[keep]\n",
    "\n",
    "#- Show the first 5 exposures\n",
    "exposures[0:5]"
   ]
  },
  {
   "cell_type": "markdown",
   "metadata": {},
   "source": [
    "## Astronomical coordinates and terms\n",
    "\n",
    "Right Ascension (**RA**) is a longitude-like coordinate on the sky, while declination (**dec**) is a latitude-like coordinate.\n",
    "\n",
    "The Modified Julian Date (**MJD**) is the number of days since Nov 17, 1858, and is often used to record the start time of an observation as a floating point number.\n",
    "\n",
    "**Airmass** is the amount of air through which the telescope was looking, normalized to airmass=1 when looking straight up.  It is approximately 1/cos(theta) where theta=the angle measured from straight up (the \"zenith\").  e.g. looking at 30 degrees above the horizon = 60 degrees from the zenith means airmass = 1/cos(60) = 2, i.e. looking through twice as much atmosphere as looking straight up.  Generally we want to observe through less air.\n",
    "\n",
    "**Seeing** = amount of blur due to atmospheric turbulance and telescope optics.  It is measured in units of arcsec = 1/3600 degrees.  Seeing less than 1 arcsec is generally pretty good; seeing greater than 1 arcsec is a somewhat disappointing night.  For comparison, a human with good eyesight has effective seeing of 1 arcminute = 60 arcsec.  i.e. a good telescope can see ~60x sharper than a human."
   ]
  },
  {
   "cell_type": "markdown",
   "metadata": {},
   "source": [
    "## Example: plotting observed tiles"
   ]
  },
  {
   "cell_type": "code",
   "execution_count": null,
   "metadata": {},
   "outputs": [],
   "source": [
    "#- plot all tiles\n",
    "fig = bk.figure(width=600, height=300)\n",
    "fig.circle(tiles['RA'], tiles['DEC'], color='gray', size=1)\n",
    "\n",
    "#- np.in1d is a very handy function for determining which items in one array are present in another\n",
    "#- use that to determine which tiles have already been observed\n",
    "observed = np.in1d(tiles['TILEID'], exposures['TILEID'])\n",
    "fig.circle(tiles['RA'][observed], tiles['DEC'][observed], color='blue', size=3)\n",
    "\n",
    "bk.show(fig)"
   ]
  },
  {
   "cell_type": "markdown",
   "metadata": {},
   "source": [
    "# Exercises\n",
    "\n",
    "* Read the Bokeh [quickstart guide](https://bokeh.pydata.org/en/latest/docs/user_guide/quickstart.html#).\n",
    "* Work through the [Bokeh tutorials](https://mybinder.org/v2/gh/bokeh/bokeh-notebooks/master?filepath=tutorial%2F00%20-%20Introduction%20and%20Setup.ipynb) 1-6 and 10.  7-9 and 11 are optional.\n",
    "* Implement at least one of the following even if you haven't finished all the tutorials:\n",
    "  1. Write a function that plots the number of tiles observed vs. time.\n",
    "  2. Make a plot of the sky showing which tiles are observed like above, but additionally highlight the tiles that were observed on a specified night, e.g. on `int(MJD) = 58838`.  Color code the progression of the exposures of otherwise somehow indicate their order.\n",
    "    * Bonus: add an interactive slider to move through the nights and update the plot on the fly\n",
    "  3. Make a plot of the sky showing which tiles are observed like above, but add interactivity so that hovering over a tile shows what exposures observed that tile.\n",
    "* Think about: the above plot shows the observed tiles (blue) overlaid on top of the locations all tiles (gray).  When zoomed out, this gives the impression that we are done with a large fraction of sky, but if you zoom in you will see that there are many unobserved gray tile locations that are obscured by the blue points.  How could you represent the data to give a better sense of actual completion for each part of the sky?"
   ]
  },
  {
   "cell_type": "code",
   "execution_count": null,
   "metadata": {},
   "outputs": [],
   "source": []
  }
 ],
 "metadata": {
  "kernelspec": {
   "display_name": "Python 3",
   "language": "python",
   "name": "python3"
  },
  "language_info": {
   "codemirror_mode": {
    "name": "ipython",
    "version": 3
   },
   "file_extension": ".py",
   "mimetype": "text/x-python",
   "name": "python",
   "nbconvert_exporter": "python",
   "pygments_lexer": "ipython3",
   "version": "3.6.8"
  }
 },
 "nbformat": 4,
 "nbformat_minor": 2
}
